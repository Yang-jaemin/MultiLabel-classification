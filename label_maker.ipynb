{
 "cells": [
  {
   "cell_type": "code",
   "execution_count": 1,
   "id": "cubic-scoop",
   "metadata": {},
   "outputs": [],
   "source": [
    "import os\n",
    "import pandas as pd\n",
    "import numpy as np"
   ]
  },
  {
   "cell_type": "code",
   "execution_count": 40,
   "id": "verbal-sample",
   "metadata": {},
   "outputs": [
    {
     "name": "stdout",
     "output_type": "stream",
     "text": [
      "데이터 수 : 18900\n"
     ]
    }
   ],
   "source": [
    "# code 폴더안에서 실행해주세요\n",
    "def classify_data(gender, age, mask):\n",
    "    class_num = 0\n",
    "    \n",
    "    # gender\n",
    "    if gender == 'female':\n",
    "        class_num += 3\n",
    "    \n",
    "    # age\n",
    "    if 30 <= age < 60:\n",
    "        class_num += 1\n",
    "    elif age >= 60:\n",
    "        class_num += 2\n",
    "        \n",
    "    # mask\n",
    "    if mask == 'incorrect':\n",
    "        class_num += 6\n",
    "    elif mask == 'normal':\n",
    "        class_num += 12\n",
    "    \n",
    "    return class_num\n",
    "\n",
    "\n",
    "train_dir = '/opt/ml/input/data/train'\n",
    "\n",
    "train_data_dict = {\n",
    "                   'id': [],\n",
    "                   'gender': [],\n",
    "                   'age': [],\n",
    "                   'mask': [],\n",
    "                   'class': [],\n",
    "                   'path': []\n",
    "                  }\n",
    "image_id = 1\n",
    "\n",
    "for folder in os.listdir(train_dir + '/images'):\n",
    "    if folder[0] == '.':\n",
    "        continue\n",
    "    image_gender = folder.split('_')[1]\n",
    "    image_age = int(folder.split('_')[3])\n",
    "    image_path = train_dir + '/images/' + folder\n",
    "    \n",
    "    for image in os.listdir(image_path):\n",
    "        if image[0] == '.':\n",
    "            continue\n",
    "            \n",
    "        # id\n",
    "        train_data_dict['id'].append(image_id)\n",
    "        image_id += 1\n",
    "        # gender\n",
    "        train_data_dict['gender'].append(image_gender)\n",
    "        \n",
    "        # age\n",
    "        train_data_dict['age'].append(image_age)\n",
    "        \n",
    "        # mask\n",
    "        if 'incorrect' in image:\n",
    "            image_mask = 'incorrect'\n",
    "        elif 'mask' in image:\n",
    "            image_mask = 'mask'\n",
    "        else:\n",
    "            image_mask = 'normal'\n",
    "        train_data_dict['mask'].append(image_mask)\n",
    "        \n",
    "        # class\n",
    "        train_data_dict['class'].append(classify_data(image_gender, image_age, image_mask))\n",
    "        \n",
    "        # path\n",
    "        train_data_dict['path'].append(image_path + '/' + image)\n",
    "                                         \n",
    "train_data_pd = pd.DataFrame(train_data_dict)\n",
    "print(f'데이터 수 : {len(train_data_pd)}')\n",
    "train_data_pd.to_csv(os.path.join(train_dir, 'train_data.csv'), index=False)"
   ]
  }
 ],
 "metadata": {
  "kernelspec": {
   "display_name": "Python 3 (ipykernel)",
   "language": "python",
   "name": "python3"
  },
  "language_info": {
   "codemirror_mode": {
    "name": "ipython",
    "version": 3
   },
   "file_extension": ".py",
   "mimetype": "text/x-python",
   "name": "python",
   "nbconvert_exporter": "python",
   "pygments_lexer": "ipython3",
   "version": "3.8.5"
  }
 },
 "nbformat": 4,
 "nbformat_minor": 5
}
